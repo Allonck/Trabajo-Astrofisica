{
 "cells": [
  {
   "cell_type": "markdown",
   "id": "c5e7c2e9",
   "metadata": {},
   "source": [
    "##  Que tengo que hacer:\n",
    "Dada una base de datos de magnitudes estelares aparentes y distancias (paralaje), y utilizando las herramientas aprendidas de programación (Python) obtener para cada estrella: a) luminosidades. b) radios. c) temperaturas efectivas.\n",
    "\n",
    " y el producto esperado será: -Tabla ASCII con parámetros solicitados. -Construcción de diagrama H-R. -Análisis de estrellas (mínimo 5) a elección: BB, 𝜆max, características. -Presentación de código/script utilizado y trabajo realizado (Máximo 15 minutos). -Todos los grupos deben preguntar"
   ]
  },
  {
   "cell_type": "markdown",
   "id": "d97181e7",
   "metadata": {},
   "source": [
    "### Resumen\n",
    "Para la obtención de los parámetros utilizados, considerar los siguientes pasos:\n",
    "1. Despejar Magnitud abs. de: $m - M =5(Log(d - 1))$, donde m y d son conocidas\n",
    "2. Despejar Luminsoidad de: $M = M_s - 2.5Log(\\frac{L}{L_s})$, $M, M_s y L_s$ son conocidos\n",
    "\n",
    "~~3. Calculo de Flujo Total: $\\frac{\\Phi_2}{\\Phi_1}= 100^{{m_1-m_2}/5}$ F1 y m1 son el flujo y magnitud aparente del objeto 1, respectivamente. Sugerencia: Usar el Sol. #Esto era el flujo entrante~~\n",
    "\n",
    "3. Calculo del Flujo Total: $M=M_s - 2.5Log(\\frac{Fd^2}{F_sd_s^2})$\n",
    "4. Calculo de Radios de estrellas: $\\Phi = \\frac{L}{4\\pi R^2}$, $\\Phi y L$ son conocidos\n",
    "5. Cálculo de Temperaturas efectivas: $L = 4\\pi R^2 \\sigma T_{eff}^4$, $L y R$ son conocidos"
   ]
  },
  {
   "cell_type": "code",
   "execution_count": 1,
   "id": "3094b200",
   "metadata": {},
   "outputs": [
    {
     "ename": "ModuleNotFoundError",
     "evalue": "No module named 'pandas'",
     "output_type": "error",
     "traceback": [
      "\u001b[1;31m---------------------------------------------------------------------------\u001b[0m",
      "\u001b[1;31mModuleNotFoundError\u001b[0m                       Traceback (most recent call last)",
      "\u001b[1;32m<ipython-input-1-943bb1acb0a3>\u001b[0m in \u001b[0;36m<module>\u001b[1;34m\u001b[0m\n\u001b[0;32m      1\u001b[0m \u001b[1;32mimport\u001b[0m \u001b[0mnumpy\u001b[0m \u001b[1;32mas\u001b[0m \u001b[0mnp\u001b[0m\u001b[1;33m\u001b[0m\u001b[1;33m\u001b[0m\u001b[0m\n\u001b[0;32m      2\u001b[0m \u001b[1;32mimport\u001b[0m \u001b[0mmatplotlib\u001b[0m\u001b[1;33m.\u001b[0m\u001b[0mpyplot\u001b[0m \u001b[1;32mas\u001b[0m \u001b[0mplt\u001b[0m\u001b[1;33m\u001b[0m\u001b[1;33m\u001b[0m\u001b[0m\n\u001b[1;32m----> 3\u001b[1;33m \u001b[1;32mimport\u001b[0m \u001b[0mpandas\u001b[0m \u001b[1;32mas\u001b[0m \u001b[0mpd\u001b[0m\u001b[1;33m\u001b[0m\u001b[1;33m\u001b[0m\u001b[0m\n\u001b[0m\u001b[0;32m      4\u001b[0m \u001b[1;33m\u001b[0m\u001b[0m\n\u001b[0;32m      5\u001b[0m \u001b[1;31m#Al df original, primero reemplazar todos los prlx = 0 a Nan, y luego quitar todos los Nan?\u001b[0m\u001b[1;33m\u001b[0m\u001b[1;33m\u001b[0m\u001b[1;33m\u001b[0m\u001b[0m\n",
      "\u001b[1;31mModuleNotFoundError\u001b[0m: No module named 'pandas'"
     ]
    }
   ],
   "source": [
    "import numpy as np\n",
    "import matplotlib.pyplot as plt\n",
    "import pandas as pd\n",
    "\n",
    "#Al df original, primero reemplazar todos los prlx = 0 a Nan, y luego quitar todos los Nan?"
   ]
  },
  {
   "cell_type": "code",
   "execution_count": null,
   "id": "bbd4a592",
   "metadata": {},
   "outputs": [],
   "source": [
    "a = pd.read_excel(\"data.xls\")\n",
    "df = pd.DataFrame(a) \n",
    "\n",
    "\n",
    "for x in df.index:\n",
    "\n",
    "    if df.loc[x, \"parallax\"] == 0:\n",
    "    \n",
    "        df.loc[x, \"parallax\"] = np.nan\n",
    "        \n",
    "print(df)"
   ]
  },
  {
   "cell_type": "code",
   "execution_count": null,
   "id": "c4b02d6e",
   "metadata": {},
   "outputs": [],
   "source": [
    "#df.describe()"
   ]
  },
  {
   "cell_type": "code",
   "execution_count": null,
   "id": "168b667b",
   "metadata": {},
   "outputs": [],
   "source": [
    "dfs = df.dropna() #Data set filtrado, sin valores Nan, eliminando esas filas\n",
    "\n",
    "print(dfs.to_string())# Ver toda la tabla como string\n",
    "####print(dfs) #Ver la tabla\n",
    "#print(dfs[\"vmag\"]) #Referirse a la columna \n",
    "#print(dfs.loc[13]) #Referirse a la fila, pero con el índice acorde"
   ]
  },
  {
   "cell_type": "code",
   "execution_count": null,
   "id": "6a5716ab",
   "metadata": {},
   "outputs": [],
   "source": [
    "print(len(dfs))"
   ]
  },
  {
   "cell_type": "code",
   "execution_count": null,
   "id": "14d44ddf",
   "metadata": {},
   "outputs": [],
   "source": [
    "a = dfs.to_numpy() # 0 -> name, 1-> ra(en grados), 2-> dec(en grados), 3-> vmag, 4-> parallax\n",
    "\n",
    "#Vector de datos\n",
    "ra = np.transpose(a[:,[1]]) \n",
    "dec = np.transpose(a[:,[2]])\n",
    "vmag = np.transpose(a[:,[3]])\n",
    "prlx = np.transpose(a[:,[4]])\n",
    "\n",
    "#1[UA] = 1.496x10^11[m] = 1.496x10^8[Km] = 1.49x10^13[cm] = 4.848x10^-6[pc] = 1.581x10^-5[al]\n",
    "#1[pc] = 3.086x10^16[m] = 3.086x10^13[Km] = 3.086x10^18[cm] = 206 265[UA] = 3.26[al] \n",
    "#1[al] = 9.46x10^15[m] = 9.46x10^12[km] = 9.46x10^17[cm] = 63241[UA] = 0.3066[pc]\n",
    "\n",
    "#L_sol = 3.84x10^33[erg s^-1] = 3.84x10^26[W]\n",
    "#R_sol = 6.96x10^10[cm] = 6.96x10^10[m]  \n",
    "#Phi_sol = 6.31x10^7[W m^-2] = 6.31x10^10[erg cm^-2 s^-1]\n",
    "#M_sol = +4.74\n",
    "#m_sol = -26.83\n",
    "\n",
    "#Cte. de Stefan-Boltzmann = 5.67x10^-8[W m^-2 K^-4] = 5.67x10^-5[erg cm^-2 s^-1 K^-4]\n",
    "\n",
    "l_sol=3.84*10**26 ##W\n",
    "r_sol=6.96*10**8 ##meter\n",
    "t_sol=5777. ##Kelvin\n",
    "M_sol=4.74\n",
    "m_sol = -26.83\n",
    "\n",
    "\n",
    "#Datos ordenados\n",
    "ra = ra[0]\n",
    "dec = dec[0]\n",
    "vmag = vmag[0]\n",
    "prlx = prlx[0]\n",
    "#Datos derivados\n",
    "d = np.abs(prlx**-1)\n",
    "\n",
    "#Para ver todo el array\n",
    "#import sys\n",
    "#import numpy\n",
    "#numpy.set_printoptions(threshold=sys.maxsize)\n",
    "print(d)"
   ]
  },
  {
   "cell_type": "code",
   "execution_count": null,
   "id": "adb8e12a",
   "metadata": {},
   "outputs": [],
   "source": [
    "def Mag(m,d):\n",
    "    return -(5*np.log10((d-1))-m)\n",
    "\n",
    "mag = Mag(vmag.astype(float),d.astype(float)) # Hay que poner el array.astype(float) porque la funcion np.log10, pide que la variable sea un float\n",
    "print(mag)\n",
    "\n",
    "def Lum(M,lsol,Msol):\n",
    "    return lsol * 10**((M-Msol)/-2.5)\n",
    "lum = Lum(mag,l_sol,M_sol)\n",
    "print(lum)\n",
    "\n",
    "def Flux():\n",
    "    pass"
   ]
  },
  {
   "cell_type": "code",
   "execution_count": null,
   "id": "90bef207",
   "metadata": {},
   "outputs": [],
   "source": [
    "print(np.log10(100))"
   ]
  },
  {
   "cell_type": "markdown",
   "id": "91bf0e63",
   "metadata": {},
   "source": [
    "1. Despejar Magnitud abs. de: $m - M =5(Log(d - 1))$, donde m y d son conocidas\n",
    "2. Despejar Luminsoidad de: $M = M_s - 2.5Log(L/L_s)$, $M, M_s y L_s$ son conocidos\n",
    "3. Calculo de Flujo Total: $\\frac{\\Phi_2}{\\Phi_1}= 100^{{m_1-m_2}/5}$ F1 y m1 son el flujo y magnitud aparente del objeto 1, respectivamente. Sugerencia: Usar el Sol.\n",
    "\n",
    "4. Calculo de Radios de estrellas: $\\Phi = \\frac{L}{4\\pi R^2}$ $\\Phi y L$ son conocidos\n",
    "5. Cálculo de Temperaturas efectivas: $L = 4\\pi R^2 \\sigma T_{eff}^4$ $L y R$ son conocidos"
   ]
  },
  {
   "cell_type": "code",
   "execution_count": null,
   "id": "61c42e1c",
   "metadata": {},
   "outputs": [],
   "source": []
  }
 ],
 "metadata": {
  "kernelspec": {
   "display_name": "Python 3",
   "language": "python",
   "name": "python3"
  },
  "language_info": {
   "codemirror_mode": {
    "name": "ipython",
    "version": 3
   },
   "file_extension": ".py",
   "mimetype": "text/x-python",
   "name": "python",
   "nbconvert_exporter": "python",
   "pygments_lexer": "ipython3",
   "version": "3.9.1"
  }
 },
 "nbformat": 4,
 "nbformat_minor": 5
}
