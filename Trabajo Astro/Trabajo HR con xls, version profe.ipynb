{
 "cells": [
  {
   "cell_type": "code",
   "execution_count": null,
   "id": "9a32ef84",
   "metadata": {},
   "outputs": [],
   "source": [
    "import numpy as np\n",
    "import matplotlib.pyplot as plt\n",
    "import sys\n",
    "import pandas as pd"
   ]
  },
  {
   "cell_type": "code",
   "execution_count": null,
   "id": "f398fad7",
   "metadata": {},
   "outputs": [],
   "source": [
    "#Read the data table\n",
    "data = pd.read_excel(\"data.xls\")"
   ]
  },
  {
   "cell_type": "code",
   "execution_count": null,
   "id": "b1b14c9b",
   "metadata": {},
   "outputs": [],
   "source": [
    "#Get the columns\n",
    "name = data[\"name\"].values\n",
    "ra = data[\"ra\"].values\n",
    "dec = data[\"dec\"].values\n",
    "vmag = data[\"vmag\"].values #Visual aparent magnitudes\n",
    "prlx = data[\"parallax\"].values #Parallax in Arcsec"
   ]
  },
  {
   "cell_type": "code",
   "execution_count": null,
   "id": "9b3d541c",
   "metadata": {},
   "outputs": [],
   "source": [
    "#Filters - Discard all the entries without a parallax\n",
    "a = np.column_stack((name,ra,dec,vmag,prlx))\n",
    "a_1 = a[:,0]\n",
    "a_2 = a[:,1]\n",
    "a_3 = a[:,2]\n",
    "a_4 = a[:,3]\n",
    "a_5 = a[:,4]\n",
    "\n",
    "filt_1 = (prlx>0) #Aquí el profe considera solo los paralajes positivos (sin contar el 0 xd)\n",
    "\n",
    "name = a_1[filt_1]\n",
    "ra = a_2[filt_1]\n",
    "dec = a_3[filt_1]\n",
    "vmag = a_4[filt_1]\n",
    "prlx = a_5[filt_1]"
   ]
  },
  {
   "cell_type": "code",
   "execution_count": null,
   "id": "bc9446f7",
   "metadata": {},
   "outputs": [],
   "source": [
    "#Derive distances in parsec\n",
    "d = 1/prlx\n",
    "print(d)\n",
    "\n",
    "abs_mag = []\n",
    "for i in range(len(name)):\n",
    "    abs_mag.append(vmag[i]+5-5*np.log10(d[i]))"
   ]
  },
  {
   "cell_type": "code",
   "execution_count": null,
   "id": "2be24cab",
   "metadata": {},
   "outputs": [],
   "source": []
  }
 ],
 "metadata": {
  "kernelspec": {
   "display_name": "Python 3",
   "language": "python",
   "name": "python3"
  },
  "language_info": {
   "codemirror_mode": {
    "name": "ipython",
    "version": 3
   },
   "file_extension": ".py",
   "mimetype": "text/x-python",
   "name": "python",
   "nbconvert_exporter": "python",
   "pygments_lexer": "ipython3",
   "version": "3.9.1"
  }
 },
 "nbformat": 4,
 "nbformat_minor": 5
}
