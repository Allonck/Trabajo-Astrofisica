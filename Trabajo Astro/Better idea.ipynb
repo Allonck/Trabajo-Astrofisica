{
 "cells": [
  {
   "cell_type": "code",
   "execution_count": 1,
   "id": "4e0687af",
   "metadata": {},
   "outputs": [],
   "source": [
    "import numpy as np\n",
    "import matplotlib.pyplot as plt\n",
    "from astropy.io import ascii\n",
    "import pandas as pd"
   ]
  },
  {
   "cell_type": "code",
   "execution_count": 22,
   "id": "3bb47d6d",
   "metadata": {},
   "outputs": [
    {
     "name": "stdout",
     "output_type": "stream",
     "text": [
      "6.29\n"
     ]
    }
   ],
   "source": [
    "data = ascii.read(\"bsc5.dat\", guess = False, fast_reader = False, format = \"tab\") \n",
    "#print(data.shape)\n",
    "m1 = data[0][0][103]\n",
    "m2 = data[0][0][104]\n",
    "m3 = data[0][0][105]\n",
    "m4 = data[0][0][106]\n",
    "p = m1+m2+m3+m4\n",
    "print(p)\n"
   ]
  },
  {
   "cell_type": "code",
   "execution_count": null,
   "id": "1be8c5fd",
   "metadata": {},
   "outputs": [],
   "source": [
    "# 103-107  F5.2   mag     Vmag     Visual magnitude (1)\n",
    "# 162-166  F5.3   arcsec  Parallax ? Trigonometric parallax (unless n_Parallax)\n",
    "m1 = data[1][0][103]\n",
    "m2 = data[1][0][104]\n",
    "m3 = data[1][0][105]\n",
    "m4 = data[1][0][106]\n",
    "p = m1+m2+m3+m4"
   ]
  },
  {
   "cell_type": "code",
   "execution_count": 13,
   "id": "d97c2568",
   "metadata": {},
   "outputs": [],
   "source": [
    "np.isfinite?"
   ]
  },
  {
   "cell_type": "code",
   "execution_count": null,
   "id": "2549a410",
   "metadata": {},
   "outputs": [],
   "source": []
  }
 ],
 "metadata": {
  "kernelspec": {
   "display_name": "Python 3",
   "language": "python",
   "name": "python3"
  },
  "language_info": {
   "codemirror_mode": {
    "name": "ipython",
    "version": 3
   },
   "file_extension": ".py",
   "mimetype": "text/x-python",
   "name": "python",
   "nbconvert_exporter": "python",
   "pygments_lexer": "ipython3",
   "version": "3.7.10"
  }
 },
 "nbformat": 4,
 "nbformat_minor": 5
}
