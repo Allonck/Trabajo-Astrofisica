{
 "cells": [
  {
   "cell_type": "code",
   "execution_count": 8,
   "id": "4e0687af",
   "metadata": {},
   "outputs": [],
   "source": [
    "import numpy as np\n",
    "import matplotlib.pyplot as plt\n",
    "from astropy.io import ascii\n",
    "import pandas as pd"
   ]
  },
  {
   "cell_type": "code",
   "execution_count": 9,
   "id": "102b15af",
   "metadata": {},
   "outputs": [
    {
     "name": "stdout",
     "output_type": "stream",
     "text": [
      "(9109,)\n"
     ]
    }
   ],
   "source": [
    "from astropy.table import Table\n",
    "t = Table.read(\"bsc5.dat\", format = \"ascii.tab\")\n",
    "\n",
    "#\n",
    "#print(t[0][0][103])\n"
   ]
  },
  {
   "cell_type": "code",
   "execution_count": 7,
   "id": "3bb47d6d",
   "metadata": {},
   "outputs": [],
   "source": [
    "data = ascii.read(\"bsc5.dat\", guess = False, fast_reader = False, format = \"tab\") \n",
    "#print(data)\n"
   ]
  },
  {
   "cell_type": "code",
   "execution_count": 24,
   "id": "1be8c5fd",
   "metadata": {},
   "outputs": [
    {
     "name": "stdout",
     "output_type": "stream",
     "text": [
      "4.61\n"
     ]
    }
   ],
   "source": [
    "# 103-107  F5.2   mag     Vmag     Visual magnitude (1)\n",
    "# 162-166  F5.3   arcsec  Parallax ? Trigonometric parallax (unless n_Parallax)\n",
    "m1 = data[1][0][103] #Se cambia el primer numero para cambiar la fila\n",
    "m2 = data[1][0][104]\n",
    "m3 = data[1][0][105]\n",
    "m4 = data[1][0][106]\n",
    "p = float(m1+m2+m3+m4)\n",
    "print(p)\n",
    "p?"
   ]
  },
  {
   "cell_type": "code",
   "execution_count": 13,
   "id": "d97c2568",
   "metadata": {},
   "outputs": [],
   "source": [
    "np.isfinite?"
   ]
  },
  {
   "cell_type": "code",
   "execution_count": 101,
   "id": "a1901362",
   "metadata": {},
   "outputs": [
    {
     "name": "stdout",
     "output_type": "stream",
     "text": [
      "[[ 0.  0.  0.  0.]\n",
      " [ 0.  1.  2.  3.]\n",
      " [ 0.  2.  4.  6.]\n",
      " [ 0.  3.  6.  9.]\n",
      " [ 0.  4.  8. 12.]\n",
      " [ 0.  5. 10. 15.]\n",
      " [ 0.  6. 12. 18.]\n",
      " [ 0.  7. 14. 21.]] \n",
      "\n",
      "8 4\n",
      "10.0\n",
      "[0, 1, 2, 3, 4, 5, 6, 7]\n"
     ]
    }
   ],
   "source": [
    "a = np.zeros([8,4])\n",
    "out = []\n",
    "#print(a, \"\\n\")\n",
    "\n",
    "for i in range(len(a)):\n",
    "    for j in range(len(a[0])):\n",
    "        a[i,j]=i*j\n",
    "print(a, \"\\n\")\n",
    "print(len(a),len(a[0]))\n",
    "print(a[5][2])\n",
    "\n",
    "for i in range(len(a)):\n",
    "     out.append(i)\n",
    "print(out)\n",
    "#for i in a:\n",
    "#    out.append([i])\n",
    "\n",
    "#print(out)\n",
    "\n",
    "\n"
   ]
  },
  {
   "cell_type": "code",
   "execution_count": null,
   "id": "ec1bd07a",
   "metadata": {},
   "outputs": [],
   "source": []
  },
  {
   "cell_type": "code",
   "execution_count": null,
   "id": "1475b58a",
   "metadata": {},
   "outputs": [],
   "source": []
  }
 ],
 "metadata": {
  "kernelspec": {
   "display_name": "Python 3",
   "language": "python",
   "name": "python3"
  },
  "language_info": {
   "codemirror_mode": {
    "name": "ipython",
    "version": 3
   },
   "file_extension": ".py",
   "mimetype": "text/x-python",
   "name": "python",
   "nbconvert_exporter": "python",
   "pygments_lexer": "ipython3",
   "version": "3.7.10"
  }
 },
 "nbformat": 4,
 "nbformat_minor": 5
}
