{
 "cells": [
  {
   "cell_type": "markdown",
   "id": "a59d4fde",
   "metadata": {},
   "source": [
    "# ESTO LO HICE ELIMINANDO LA ULTIMA DE LA TABLA\n"
   ]
  },
  {
   "cell_type": "code",
   "execution_count": 2,
   "id": "aa35a481",
   "metadata": {},
   "outputs": [],
   "source": [
    "import numpy as np\n",
    "import matplotlib.pyplot as plt\n",
    "from astropy.io import ascii\n",
    "import pandas as pd\n",
    "#x = data[:,[0]] #Seleccionar solo la primera columna"
   ]
  },
  {
   "cell_type": "code",
   "execution_count": null,
   "id": "33a5c223",
   "metadata": {},
   "outputs": [],
   "source": [
    "data = ascii.read(\"bsc5_sinlastline.dat\", guess = False, fast_reader = False, format = \"tab\") \n",
    "d = np.array(data)\n",
    "a = np.arange(0,48*197,197) #El primero número es el inicio, el segundo el final, el tercero es el multiplicador\n",
    "\n",
    "re = d.reshape(1,198,46)\n",
    "#print(re, \"\\n\",np.shape(re))\n",
    "mat = (re[0][0])\n",
    "#mat[45] es el lím max que puse, que diablos paso con los demas datos? Ni idea\n",
    "\n",
    "#print(mat, \"\\n\",np.shape(re))\n",
    "m_mag = np.arange(103,108,1)\n",
    "V_mag = re[[0][0],[3]] #Seleccionar la primera columna y segunda columna\n",
    "\n",
    "# 103-107  F5.2   mag     Vmag     Visual magnitude (1)\n",
    "# 162-166  F5.3   arcsec  Parallax ? Trigonometric parallax (unless n_Parallax)\n",
    "m1 = data[1][0][103]\n",
    "m2 = data[1][0][104]\n",
    "m3 = data[1][0][105]\n",
    "m4 = data[1][0][106]\n",
    "p = m1+m2+m3+m4\n",
    "print(p)"
   ]
  },
  {
   "cell_type": "code",
   "execution_count": null,
   "id": "53379388",
   "metadata": {},
   "outputs": [],
   "source": [
    "# Luminosidad de la Segunda Estrella\n",
    "\n",
    "#print(re)\n",
    "#print(re[0])\n",
    "#print(re[0][0])\n",
    "x = re[0][0][1][0][103]\n",
    "y = re[0][0][1][0][104]\n",
    "z = re[0][0][1][0][105]\n",
    "w = re[0][0][1][0][106]\n",
    "\n",
    "v_mag = np.array([x,y,z,w])\n",
    "h = np.array([v_mag])\n",
    "print(x,y,z,w)\n",
    "print(4.61)\n",
    "u = x+y+z+w\n",
    "print(u)\n",
    "#print(re[0][0][0][0])\n",
    "#x = a[:,[0,1]] #Seleccionar la primera columna y segunda columna"
   ]
  },
  {
   "cell_type": "code",
   "execution_count": null,
   "id": "465896cc",
   "metadata": {},
   "outputs": [],
   "source": [
    "#print(re)\n",
    "#print(re[0])\n",
    "#print(re[0][0])\n",
    "print(re[0][0][1]) #Desde aquí se toma las filas\n",
    "#print(re[0][0][0][0]) #Inutil\n",
    "print(re[0][0][0][0][3]) #Elemento "
   ]
  },
  {
   "cell_type": "code",
   "execution_count": null,
   "id": "edc975c0",
   "metadata": {},
   "outputs": [],
   "source": [
    "data = ascii.read(\"bsc5_sinlastline.dat\", guess = False, fast_reader = False, format = \"tab\")  \n",
    "print(data[13]) #Línea 15, Estrella 21Alp, Andromeda "
   ]
  },
  {
   "cell_type": "code",
   "execution_count": 23,
   "id": "35767498",
   "metadata": {},
   "outputs": [
    {
     "name": "stdout",
     "output_type": "stream",
     "text": [
      "        3 1SB:  72.93d, K 16.4k/s, V0 -6.6k/s, asini 15.8.  Spectroscopic triple 5.0, 7.5v, 0.00003\", third component 7.5v        \n",
      "----------------------------------------------------------------------------------------------------------------------------------\n",
      "                                                                                                                3 2SB:  at 0.002\".\n",
      "                                                                                                               3 1VAR: Amp. 0.05V.\n",
      "                      5 1D:   6.43 dG4, 7.19 dG8, 106.83y, a = 1.432\".  Component B has possible invisible companion, period 6.9y.\n",
      "                                                                                                                   5 1DYN: 0.051\".\n",
      "                                                                                                     5 1VAR: Amp. 0.066V, 1.0819d.\n",
      "                                                                                                                      6 1D:   CPM.\n",
      "                                                                                                                   6 1DYN: 0.006\".\n",
      "                                                                                                             6 1G:   61 Cyg group.\n",
      "                                                                                                  7 1S:   Also classified B8IV-Ve.\n",
      "                                                                                                             8 1VAR: 6.09 - 6.14V.\n",
      "                                                                                                                               ...\n",
      "                                                                                                9090 1VAR: M 7.1 - 14.8v, 351.33d.\n",
      "                                                      9091 1G:   Member of young high latitude, metal-deficient cluster, Zeta Scl.\n",
      " 9093 1C:   Other UBV data:  5.68 to 5.78V with one discordant 5.32V; +0.31 to +0.42(B-V) with one discordant +0.19(B-V); -0.02 to\n",
      "                                                                             9093 2C:   +0.01(U-B) with one discordant +0.13(U-B).\n",
      "     9094 1D:   ADS 1B, 7.47V, +0.08(B-V), +0.05(U-B), A2Vn, vsini 275k/s, may be shell star.  AB binary. C, 10.8m at 99\" optical.\n",
      "                                                                                                               9097 1G:   Cas OB5.\n",
      "                                                                                                         9097 1VAR: I?  Amp. 0.1B.\n",
      "                                                                                                                9105 1D:   Binary.\n",
      "                                                                     9105 1S:   Primary discordant classifications, B9III or A3Vs.\n",
      "                                                                                                       9105 1SB:  ADS 30B, 9.5 F5.\n",
      "                                                                                                  9110 1VAR: Amp. 0.02:V, 6.4322d.\n",
      "Length = 9189 rows\n"
     ]
    }
   ],
   "source": [
    "data_note = ascii.read(\"notes\", guess = False, fast_reader = False, format = \"tab\")  \n",
    "print(data_note) "
   ]
  },
  {
   "cell_type": "markdown",
   "id": "5e3a887d",
   "metadata": {},
   "source": [
    "ASCII format 'ta' not in allowed list ['aastex', 'basic', 'cds', 'commented_header', 'csv', 'daophot', 'ecsv', 'fast_basic', 'fast_commented_header', 'fast_csv', 'fast_no_header', 'fast_rdb', 'fast_tab', 'fixed_width', 'fixed_width_no_header', 'fixed_width_two_line', 'html', 'ipac', 'latex', 'no_header', 'rdb', 'rst', 'sextractor', 'tab']"
   ]
  },
  {
   "cell_type": "code",
   "execution_count": 24,
   "id": "54c618ae",
   "metadata": {},
   "outputs": [
    {
     "ename": "ValueError",
     "evalue": "Illegal type <class 'tuple'> for table item access",
     "output_type": "error",
     "traceback": [
      "\u001b[1;31m---------------------------------------------------------------------------\u001b[0m",
      "\u001b[1;31mValueError\u001b[0m                                Traceback (most recent call last)",
      "\u001b[1;32m<ipython-input-24-974b36b836b6>\u001b[0m in \u001b[0;36m<module>\u001b[1;34m\u001b[0m\n\u001b[0;32m      1\u001b[0m \u001b[0mta\u001b[0m \u001b[1;33m=\u001b[0m \u001b[0mascii\u001b[0m\u001b[1;33m.\u001b[0m\u001b[0mread\u001b[0m\u001b[1;33m(\u001b[0m\u001b[1;34m\"asc5.dat\"\u001b[0m\u001b[1;33m,\u001b[0m \u001b[0mguess\u001b[0m \u001b[1;33m=\u001b[0m \u001b[1;32mFalse\u001b[0m\u001b[1;33m,\u001b[0m \u001b[0mfast_reader\u001b[0m \u001b[1;33m=\u001b[0m \u001b[1;32mFalse\u001b[0m\u001b[1;33m,\u001b[0m \u001b[0mformat\u001b[0m \u001b[1;33m=\u001b[0m \u001b[1;34m\"tab\"\u001b[0m\u001b[1;33m)\u001b[0m\u001b[1;33m\u001b[0m\u001b[1;33m\u001b[0m\u001b[0m\n\u001b[0;32m      2\u001b[0m \u001b[1;31m#print(ta)\u001b[0m\u001b[1;33m\u001b[0m\u001b[1;33m\u001b[0m\u001b[1;33m\u001b[0m\u001b[0m\n\u001b[1;32m----> 3\u001b[1;33m \u001b[0mprint\u001b[0m\u001b[1;33m(\u001b[0m\u001b[0mta\u001b[0m\u001b[1;33m[\u001b[0m\u001b[1;33m:\u001b[0m\u001b[1;33m,\u001b[0m\u001b[1;33m[\u001b[0m\u001b[1;36m0\u001b[0m\u001b[1;33m]\u001b[0m\u001b[1;33m]\u001b[0m\u001b[1;33m)\u001b[0m\u001b[1;33m\u001b[0m\u001b[1;33m\u001b[0m\u001b[0m\n\u001b[0m\u001b[0;32m      4\u001b[0m \u001b[1;31m#x = data[:,[0]]\u001b[0m\u001b[1;33m\u001b[0m\u001b[1;33m\u001b[0m\u001b[1;33m\u001b[0m\u001b[0m\n",
      "\u001b[1;32m~\\anaconda3\\lib\\site-packages\\astropy\\table\\table.py\u001b[0m in \u001b[0;36m__getitem__\u001b[1;34m(self, item)\u001b[0m\n\u001b[0;32m   1679\u001b[0m         \u001b[1;32melse\u001b[0m\u001b[1;33m:\u001b[0m\u001b[1;33m\u001b[0m\u001b[1;33m\u001b[0m\u001b[0m\n\u001b[0;32m   1680\u001b[0m             raise ValueError('Illegal type {} for table item access'\n\u001b[1;32m-> 1681\u001b[1;33m                              .format(type(item)))\n\u001b[0m\u001b[0;32m   1682\u001b[0m \u001b[1;33m\u001b[0m\u001b[0m\n\u001b[0;32m   1683\u001b[0m     \u001b[1;32mdef\u001b[0m \u001b[0m__setitem__\u001b[0m\u001b[1;33m(\u001b[0m\u001b[0mself\u001b[0m\u001b[1;33m,\u001b[0m \u001b[0mitem\u001b[0m\u001b[1;33m,\u001b[0m \u001b[0mvalue\u001b[0m\u001b[1;33m)\u001b[0m\u001b[1;33m:\u001b[0m\u001b[1;33m\u001b[0m\u001b[1;33m\u001b[0m\u001b[0m\n",
      "\u001b[1;31mValueError\u001b[0m: Illegal type <class 'tuple'> for table item access"
     ]
    }
   ],
   "source": [
    "ta = ascii.read(\"asc5.dat\", guess = False, fast_reader = False, format = \"tab\") \n",
    "#print(ta)\n",
    "print(ta)\n",
    "#x = data[:,[0]]"
   ]
  },
  {
   "cell_type": "code",
   "execution_count": 26,
   "id": "a1fcb5a3",
   "metadata": {},
   "outputs": [],
   "source": [
    "ta?"
   ]
  },
  {
   "cell_type": "code",
   "execution_count": 5,
   "id": "0afd5d8c",
   "metadata": {},
   "outputs": [
    {
     "name": "stdout",
     "output_type": "stream",
     "text": [
      "  name  mag\n",
      "------- ---\n",
      "    M31 3.4\n",
      "NGC1232 9.9\n",
      "    M81 6.9\n"
     ]
    }
   ],
   "source": [
    "from astropy.table import Table\n",
    "\n",
    "names = ['M31', 'NGC1232', 'M81']\n",
    "magnitudes = [3.4, 9.9, 6.9]\n",
    "\n",
    "tabla = Table([names, magnitudes], names=('name', 'mag'),\n",
    "                        meta={'name': 'Lista de galaxias'})\n",
    "\n",
    "print(tabla)"
   ]
  },
  {
   "cell_type": "code",
   "execution_count": 19,
   "id": "d6b6e606",
   "metadata": {},
   "outputs": [
    {
     "name": "stdout",
     "output_type": "stream",
     "text": [
      " x   y \n",
      "--- ---\n",
      "  1   1\n"
     ]
    }
   ],
   "source": [
    "x = np.array([1, 2, 3])\n",
    "y = x ** 2\n",
    "ascii.write([x, y], 'values.dat', names=['x', 'y'], overwrite=True)\n",
    "tabla = ascii.read(\"values.dat\")  \n",
    "# print(tabla[\"x\"])\n",
    "print(tabla[0])"
   ]
  },
  {
   "cell_type": "markdown",
   "id": "703c32f8",
   "metadata": {},
   "source": [
    "https://docs.astropy.org/en/stable/io/ascii/write.html\n",
    "\n",
    "https://python4astronomers.github.io/\n",
    "\n",
    "https://aulavirtual.ucentral.cl/pluginfile.php/210578/mod_resource/content/1/bsc5.dat\n",
    "https://aulavirtual.ucentral.cl/pluginfile.php/210579/mod_resource/content/1/bsc5.readme.txt  \n",
    "\n",
    "http://research.iac.es/sieinvens/python-course/astropy.html"
   ]
  },
  {
   "cell_type": "code",
   "execution_count": null,
   "id": "729a5703",
   "metadata": {},
   "outputs": [],
   "source": [
    "import numpy as np\n",
    "a = np.array([(0,1,2),(3,4,5)])\n",
    "print(a)\n",
    "x = a[:,[0,1]] #Seleccionar la primera columna y segunda columna\n",
    "print(x)\n",
    "\n",
    "# 103-107  F5.2   mag     Vmag     Visual magnitude (1)\n",
    "# 162-166  F5.3   arcsec  Parallax ? Trigonometric parallax (unless n_Parallax)\n",
    "# "
   ]
  },
  {
   "cell_type": "markdown",
   "id": "c44df71c",
   "metadata": {},
   "source": [
    "##  Que tengo que hacer:\n",
    "Dada una base de datos de magnitudes estelares aparentes y distancias (paralaje), y utilizando las herramientas aprendidas de programación (Python) obtener para cada estrella: a) luminosidades. b) radios. c) temperaturas efectivas.\n",
    "\n",
    " y el producto esperado será: -Tabla ASCII con parámetros solicitados. -Construcción de diagrama H-R. -Análisis de estrellas (mínimo 5) a elección: BB, 𝜆max, características. -Presentación de código/script utilizado y trabajo realizado (Máximo 15 minutos). -Todos los grupos deben preguntar"
   ]
  },
  {
   "cell_type": "markdown",
   "id": "ca4f43ad",
   "metadata": {},
   "source": [
    "### Resumen\n",
    "Para la obtención de los parámetros utilizados, considerar los siguientes pasos:\n",
    "1. Despejar Magnitud abs. de: $m - M =5(Log(d - 1))$, donde m y d son conocidas\n",
    "2. Despejar Luminsoidad de: $M = M_s - 2.5Log(L/L_s)$, $M, M_s y L_s$ son conocidos\n",
    "3. Calculo de Flujo Total: $\\frac{\\Phi_2}{\\Phi_1}= 100^{{m_1-m_2}/5}$ F1 y m1 son el flujo y magnitud aparente del objeto 1, respectivamente. Sugerencia: Usar el Sol.\n",
    "\n",
    "4. Calculo de Radios de estrellas: $\\Phi = \\frac{L}{4\\pi R^2}$ $\\Phi y L$ son conocidos\n",
    "5. Cálculo de Temperaturas efectivas: $L = 4\\pi R^2 \\sigma T_{eff}^4$ $L y R$ son conocidos"
   ]
  },
  {
   "cell_type": "code",
   "execution_count": null,
   "id": "dd7facfe",
   "metadata": {},
   "outputs": [],
   "source": []
  }
 ],
 "metadata": {
  "kernelspec": {
   "display_name": "Python 3",
   "language": "python",
   "name": "python3"
  },
  "language_info": {
   "codemirror_mode": {
    "name": "ipython",
    "version": 3
   },
   "file_extension": ".py",
   "mimetype": "text/x-python",
   "name": "python",
   "nbconvert_exporter": "python",
   "pygments_lexer": "ipython3",
   "version": "3.7.10"
  }
 },
 "nbformat": 4,
 "nbformat_minor": 5
}
