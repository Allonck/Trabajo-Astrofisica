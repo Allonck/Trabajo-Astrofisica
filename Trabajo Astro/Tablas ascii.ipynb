{
 "cells": [
  {
   "cell_type": "markdown",
   "id": "a59d4fde",
   "metadata": {},
   "source": [
    "# ESTO LO HICE ELIMINANDO LA ULTIMA DE LA TABLA\n"
   ]
  },
  {
   "cell_type": "code",
   "execution_count": 1,
   "id": "aa35a481",
   "metadata": {},
   "outputs": [],
   "source": [
    "import numpy as np\n",
    "import matplotlib.pyplot as plt\n",
    "from astropy.io import ascii\n",
    "import pandas as pd\n",
    "#x = data[:,[0]] #Seleccionar solo la primera columna"
   ]
  },
  {
   "cell_type": "code",
   "execution_count": null,
   "id": "33a5c223",
   "metadata": {},
   "outputs": [],
   "source": [
    "data = ascii.read(\"bsc5_sinlastline.dat\", guess = False, fast_reader = False, format = \"tab\") \n",
    "d = np.array(data)\n",
    "a = np.arange(0,48*197,197) #El primero número es el inicio, el segundo el final, el tercero es el multiplicador\n",
    "\n",
    "re = d.reshape(1,198,46)\n",
    "#print(re, \"\\n\",np.shape(re))\n",
    "mat = (re[0][0])\n",
    "#mat[45] es el lím max que puse, que diablos paso con los demas datos? Ni idea\n",
    "\n",
    "#print(mat, \"\\n\",np.shape(re))\n",
    "m_mag = np.arange(103,108,1)\n",
    "V_mag = re[[0][0],[3]] #Seleccionar la primera columna y segunda columna\n",
    "\n",
    "# 103-107  F5.2   mag     Vmag     Visual magnitude (1)\n",
    "# 162-166  F5.3   arcsec  Parallax ? Trigonometric parallax (unless n_Parallax)\n",
    "m1 = data[1][0][103]\n",
    "m2 = data[1][0][104]\n",
    "m3 = data[1][0][105]\n",
    "m4 = data[1][0][106]\n",
    "p = m1+m2+m3+m4\n",
    "print(p)"
   ]
  },
  {
   "cell_type": "code",
   "execution_count": null,
   "id": "53379388",
   "metadata": {},
   "outputs": [],
   "source": [
    "# Luminosidad de la Segunda Estrella\n",
    "\n",
    "#print(re)\n",
    "#print(re[0])\n",
    "#print(re[0][0])\n",
    "x = re[0][0][1][0][103]\n",
    "y = re[0][0][1][0][104]\n",
    "z = re[0][0][1][0][105]\n",
    "w = re[0][0][1][0][106]\n",
    "\n",
    "v_mag = np.array([x,y,z,w])\n",
    "h = np.array([v_mag])\n",
    "print(x,y,z,w)\n",
    "print(4.61)\n",
    "u = x+y+z+w\n",
    "print(u)\n",
    "#print(re[0][0][0][0])\n",
    "#x = a[:,[0,1]] #Seleccionar la primera columna y segunda columna"
   ]
  },
  {
   "cell_type": "code",
   "execution_count": null,
   "id": "465896cc",
   "metadata": {},
   "outputs": [],
   "source": [
    "#print(re)\n",
    "#print(re[0])\n",
    "#print(re[0][0])\n",
    "print(re[0][0][1]) #Desde aquí se toma las filas\n",
    "#print(re[0][0][0][0]) #Inutil\n",
    "print(re[0][0][0][0][3]) #Elemento "
   ]
  },
  {
   "cell_type": "code",
   "execution_count": null,
   "id": "edc975c0",
   "metadata": {},
   "outputs": [],
   "source": [
    "data = ascii.read(\"bsc5_sinlastline.dat\", guess = False, fast_reader = False, format = \"tab\")  \n",
    "print(data[13]) #Línea 15, Estrella 21Alp, Andromeda "
   ]
  },
  {
   "cell_type": "code",
   "execution_count": null,
   "id": "35767498",
   "metadata": {},
   "outputs": [],
   "source": [
    "data_note = ascii.read(\"notes\", guess = False, fast_reader = False, format = \"tab\")  \n",
    "print(data_note[0]) "
   ]
  },
  {
   "cell_type": "markdown",
   "id": "5e3a887d",
   "metadata": {},
   "source": [
    "ASCII format 'ta' not in allowed list ['aastex', 'basic', 'cds', 'commented_header', 'csv', 'daophot', 'ecsv', 'fast_basic', 'fast_commented_header', 'fast_csv', 'fast_no_header', 'fast_rdb', 'fast_tab', 'fixed_width', 'fixed_width_no_header', 'fixed_width_two_line', 'html', 'ipac', 'latex', 'no_header', 'rdb', 'rst', 'sextractor', 'tab']"
   ]
  },
  {
   "cell_type": "code",
   "execution_count": 23,
   "id": "54c618ae",
   "metadata": {},
   "outputs": [
    {
     "name": "stdout",
     "output_type": "stream",
     "text": [
      " IdcdFasiofjaisofhaiofhahfoiahfoahfaiofhaiofaifoafyoiafmioafiasfjishafioahifiahfiosahifosoaifkasfhakfbkbVmagasfhaifhaofhakshxjafxabbxasfhiaufhiasuasffTprlxmxanocjaubmamacmxjxmacbxaucxmaboeubaosjasf\n",
      "-----------------------------------------------------------------------------------------------------------------------------------------------------------------------------------------------------\n",
      "    1          BD+44 4550      3 36042          46           000001.1+444022000509.9+451345114.44-16.88 6.70  +0.07 +0.08         A1Vn               -0.012-0.018      -018      195  4.2  21.6AC   3\n",
      "                             2          BD-01 4525      6128569                       235956.2-010330000503.8-003011 98.33-61.14 6.29  +1.10 +1.02        gG9                 +0.045-0.060      +014V\n",
      "   3 33    PscBD-06 6357     281285721002I         Var?     000013.0-061601000520.1-054227 93.75-65.93 4.61  +1.04 +0.89 +0.54   K0IIIbCN-0.5       -0.009+0.089 +.014-006SB1O < 17  2.5   0.0     3*\n",
      "                            4 86    PegBD+12 5063     87 917012004                   000033.8+125023000542.0+132346106.19-47.98 5.51  +0.90               G5III              +0.045-0.012      -002V?\n",
      "   5          BD+57 2865    123 21085          61  V640 Cas 000101.8+575245000616.0+582612117.03-03.92 5.96  +0.67 +0.20         G5V                +0.263+0.030 +.047-012V          0.8   1.4      *\n",
      "   6          CD-4914337    142214963      W                000108.4-493751000619.0-490430321.61-66.38 5.70  +0.52 +0.05         G1IV               +0.565-0.038 +.050+003SB         5.7   5.4      *\n",
      "   7 10    CasBD+63 2107    144 109782005                   000114.4+633822000626.5+641146118.06  1.75 5.59  -0.03 -0.19         B9III             e+0.008 0.000      -000V     153                 *\n",
      "   8          BD+28 4704    166 73743          69     33    000125.2+282811000636.8+290117111.26-32.83 6.13  +0.75 +0.33         K0V                +0.380-0.182 +.067-008V          2.6 158.6AB   4*\n",
      "                             9          CD-23    4    2031660531003                   000143.0-233947000650.1-230627 52.21-79.14 6.18  +0.38 +0.05         A7V                +0.100-0.045      +003V\n",
      "  10          BD-18 6428    256147090                       000211.8-175639000718.2-172311 74.36-75.90 6.19  +0.14 +0.10         A6Vn               -0.018+0.036      -009V?    195                 *\n",
      "                                                                                                                                                                                                  ...\n",
      "       9100  9    CasBD+61 2586 225180 10954      W                235904.5+614351000413.6+621716117.47-00.08 5.88  +0.30 +0.29         A1III              -0.004+0.006      -018V          4.0 246.0\n",
      "                           9101          BD-17 6868 225197147064                       235912.4-170503000419.7-163144 74.70-74.79 5.78  +1.10 +1.05         K2III              +0.039-0.059      -027\n",
      "                           9102          CD-2918950 225200166031                       235913.2-294933000420.3-291607 18.53-79.41 6.40   0.00 -0.05         A0V                +0.030+0.014      +028\n",
      "                  9103  3    CetBD-11 6194 2252121470662001I            13    235923.0-110358000430.1-103034 87.07-70.04 4.94  +1.63 +1.92         K3Ib              v-0.005-0.011 +.016-042V    < 17\n",
      "                           9104          BD+66 1679 225216 10956                       235930.1+663632000442.0+671000118.41  4.71 5.67  +1.07 +0.93         K1III              +0.092+0.030 +.013-027\n",
      "9105          BD+41 4933 225218 36037    I     30           235928.2+413210000436.7+420532113.72-19.94 6.01R                     B9III              +0.005-0.022      -008SB         3.7   5.4      *\n",
      "                           9106          CP-73 2346 225233255629                       235926.8-732712000430.7-725352307.68-43.80 7.31  +0.44 +0.01         F2V                +0.010-0.054      +008\n",
      "                          9107          BD+33 4828 225239 536222002                   235939.2+340602000453.8+343935112.17-27.24 6.12  +0.62 +0.09         G2V                +0.772+0.089 +.035+004V\n",
      "                          9108          CP-72 2800 2252532556311001                   235937.0-715936000441.3-712613308.18-45.21 5.59  -0.12 -0.42         B8IV-V             +0.028-0.014      -003V\n",
      "       9109          BD+25 5068 225276 73731    I     42           235947.1+260533000456.0+263856110.22-35.07 6.25  +1.40 +1.59         K4IIIb             +0.110-0.012      -005           4.5  17.5\n",
      "9110          BD+60 2667 225289 10962              V567 Cas 235955.9+604526000506.2+611851117.40-01.06 5.80  -0.09 -0.32         B8IVpHgMn          +0.015+0.005      +014V      50                 *\n",
      "Length = 9110 rows\n"
     ]
    }
   ],
   "source": [
    "ta = ascii.read(\"asc5.dat\", guess = False, fast_reader = False, format = \"tab\") \n",
    "print(ta)\n",
    "#rint(ta[0])"
   ]
  },
  {
   "cell_type": "code",
   "execution_count": 19,
   "id": "0afd5d8c",
   "metadata": {},
   "outputs": [
    {
     "name": "stdout",
     "output_type": "stream",
     "text": [
      "  name \n",
      "-------\n",
      "    M31\n",
      "NGC1232\n",
      "    M81\n"
     ]
    }
   ],
   "source": [
    "from astropy.table import Table\n",
    "\n",
    "names = ['M31', 'NGC1232', 'M81']\n",
    "magnitudes = [3.4, 9.9, 6.9]\n",
    "\n",
    "tabla = Table([names, magnitudes], names=('name', 'mag'),\n",
    "                        meta={'name': 'Lista de galaxias'})\n",
    "\n",
    "print(tabla[\"name\"])"
   ]
  },
  {
   "cell_type": "code",
   "execution_count": null,
   "id": "d6b6e606",
   "metadata": {},
   "outputs": [],
   "source": [
    "x = np.array([1, 2, 3])\n",
    "y = x ** 2\n",
    "ascii.write([x, y], 'values.dat', names=['x', 'y'], overwrite=True)\n",
    "tabla = ascii.read(\"values.dat\")  \n",
    "print(tabla[\"x\"]) "
   ]
  },
  {
   "cell_type": "markdown",
   "id": "703c32f8",
   "metadata": {},
   "source": [
    "https://docs.astropy.org/en/stable/io/ascii/write.html\n",
    "\n",
    "https://python4astronomers.github.io/\n",
    "\n",
    "https://aulavirtual.ucentral.cl/pluginfile.php/210578/mod_resource/content/1/bsc5.dat\n",
    "https://aulavirtual.ucentral.cl/pluginfile.php/210579/mod_resource/content/1/bsc5.readme.txt  \n",
    "\n",
    "http://research.iac.es/sieinvens/python-course/astropy.html"
   ]
  },
  {
   "cell_type": "code",
   "execution_count": null,
   "id": "729a5703",
   "metadata": {},
   "outputs": [],
   "source": [
    "import numpy as np\n",
    "a = np.array([(0,1,2),(3,4,5)])\n",
    "print(a)\n",
    "x = a[:,[0,1]] #Seleccionar la primera columna y segunda columna\n",
    "print(x)\n",
    "\n",
    "# 103-107  F5.2   mag     Vmag     Visual magnitude (1)\n",
    "# 162-166  F5.3   arcsec  Parallax ? Trigonometric parallax (unless n_Parallax)\n",
    "# "
   ]
  },
  {
   "cell_type": "markdown",
   "id": "c44df71c",
   "metadata": {},
   "source": [
    "##  Que diablos tengo que hacer:\n",
    "Dada una base de datos de magnitudes estelares aparentes y distancias (paralaje), y utilizando las herramientas aprendidas de programación (Python) obtener para cada estrella: a) luminosidades. b) radios. c) temperaturas efectivas.\n",
    "\n",
    " y el producto esperado será: -Tabla ASCII con parámetros solicitados. -Construcción de diagrama H-R. -Análisis de estrellas (mínimo 5) a elección: BB, 𝜆max, características. -Presentación de código/script utilizado y trabajo realizado (Máximo 15 minutos). -Todos los grupos deben preguntar"
   ]
  },
  {
   "cell_type": "markdown",
   "id": "ca4f43ad",
   "metadata": {},
   "source": [
    "### Resumen\n",
    "Para la obtención de los parámetros utilizados, considerar los siguientes pasos:\n",
    "1. Despejar Magnitud abs. de: $m - M =5(Log(d - 1))$, donde m y d son conocidas\n",
    "2. Despejar Luminsoidad de: $M = M_s - 2.5Log(L/L_s)$, $M, M_s y L_s$ son conocidos\n",
    "3. Calculo de Flujo Total: $\\frac{\\Phi_2}{\\Phi_1}= 100^{{m_1-m_2}/5}$ F1 y m1 son el flujo y magnitud aparente del objeto 1, respectivamente. Sugerencia: Usar el Sol.\n",
    "\n",
    "4. Calculo de Radios de estrellas: $\\Phi = \\frac{L}{4\\pi R^2}$ $\\Phi y L$ son conocidos\n",
    "5. Cálculo de Temperaturas efectivas: $L = 4\\pi R^2 \\sigma T_{eff}^4$ $L y R$ son conocidos"
   ]
  },
  {
   "cell_type": "code",
   "execution_count": null,
   "id": "dd7facfe",
   "metadata": {},
   "outputs": [],
   "source": []
  }
 ],
 "metadata": {
  "kernelspec": {
   "display_name": "Python 3",
   "language": "python",
   "name": "python3"
  },
  "language_info": {
   "codemirror_mode": {
    "name": "ipython",
    "version": 3
   },
   "file_extension": ".py",
   "mimetype": "text/x-python",
   "name": "python",
   "nbconvert_exporter": "python",
   "pygments_lexer": "ipython3",
   "version": "3.7.10"
  }
 },
 "nbformat": 4,
 "nbformat_minor": 5
}
